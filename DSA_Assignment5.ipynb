{
 "cells": [
  {
   "cell_type": "markdown",
   "id": "b49ec87c",
   "metadata": {},
   "source": [
    "Question 1 Convert 1D Array Into 2D Array\n",
    "\n",
    "You are given a **0-indexed** 1-dimensional (1D) integer array original, and two integers, m and n. You are tasked with creating a 2-dimensional (2D) array with  m rows and n columns using **all** the elements from original.\n",
    "\n",
    "The elements from indices 0 to n - 1 (**inclusive**) of original should form the first row of the constructed 2D array, the elements from indices n to 2 * n - 1 (**inclusive**) should form the second row of the constructed 2D array, and so on."
   ]
  },
  {
   "cell_type": "code",
   "execution_count": 4,
   "id": "2b0970dc",
   "metadata": {},
   "outputs": [
    {
     "data": {
      "text/plain": [
       "[[1, 2], [3, 4]]"
      ]
     },
     "execution_count": 4,
     "metadata": {},
     "output_type": "execute_result"
    }
   ],
   "source": [
    "def Q1(original,m,n):\n",
    "    if m*n != len(original):\n",
    "        return []\n",
    "      \n",
    "    ans = []\n",
    "    for i in range(0, m*n, n):\n",
    "        ans.append(original[i:i+n])\n",
    "\n",
    "    return ans\n",
    "\n",
    "Q1([1,2,3,4], 2, 2)"
   ]
  },
  {
   "cell_type": "markdown",
   "id": "fb43419e",
   "metadata": {},
   "source": [
    "Question 2 You have n coins and you want to build a staircase with these coins. The staircase consists of k rows where the ith row has exactly i coins. The last row of the staircase **may be** incomplete.\n",
    "\n",
    "Given the integer n, return *the number of **complete rows** of the staircase you will build*."
   ]
  },
  {
   "cell_type": "code",
   "execution_count": 5,
   "id": "8be24afe",
   "metadata": {},
   "outputs": [
    {
     "data": {
      "text/plain": [
       "2"
      ]
     },
     "execution_count": 5,
     "metadata": {},
     "output_type": "execute_result"
    }
   ],
   "source": [
    "def Q2(n):\n",
    "    rows = 0\n",
    "    i = 1\n",
    "    while n >= i:\n",
    "        n-=i\n",
    "        rows+=1\n",
    "        i+=1\n",
    "\n",
    "    return rows\n",
    "Q2(5)"
   ]
  },
  {
   "cell_type": "markdown",
   "id": "f357090f",
   "metadata": {},
   "source": [
    "Question 3 Given an integer array nums sorted in **non-decreasing** order, return *an array of **the squares of each number** sorted in non-decreasing order*."
   ]
  },
  {
   "cell_type": "code",
   "execution_count": 14,
   "id": "3ad7d079",
   "metadata": {},
   "outputs": [
    {
     "data": {
      "text/plain": [
       "[0, 1, 9, 16, 100]"
      ]
     },
     "execution_count": 14,
     "metadata": {},
     "output_type": "execute_result"
    }
   ],
   "source": [
    "def Q3(nums):\n",
    "    for i in range(len(nums)):\n",
    "        nums[i]*=nums[i]\n",
    "    nums.sort()\n",
    "    return nums\n",
    "\n",
    "Q3([-4,-1,0,3,10])"
   ]
  },
  {
   "cell_type": "markdown",
   "id": "676929ca",
   "metadata": {},
   "source": [
    "Question 4 Given two **0-indexed** integer arrays nums1 and nums2, return *a list* answer *of size* 2 *where:*\n",
    "\n",
    "- answer[0] *is a list of all **distinct** integers in* nums1 *which are **not** present in* nums2*.*\n",
    "- answer[1] *is a list of all **distinct** integers in* nums2 *which are **not** present in* nums1."
   ]
  },
  {
   "cell_type": "code",
   "execution_count": 15,
   "id": "551a63c5",
   "metadata": {},
   "outputs": [
    {
     "data": {
      "text/plain": [
       "[[1, 3], [4, 6]]"
      ]
     },
     "execution_count": 15,
     "metadata": {},
     "output_type": "execute_result"
    }
   ],
   "source": [
    "def Q4(nums1,nums2):        \n",
    "        return [[x for x in set(nums1) if x not in set(nums2)], \n",
    "                [x for x in set(nums2) if x not in set(nums1)]]\n",
    "Q4([1,2,3],[2,4,6])"
   ]
  },
  {
   "cell_type": "markdown",
   "id": "df775d53",
   "metadata": {},
   "source": [
    "Question 5 Given two integer arrays arr1 and arr2, and the integer d, *return the distance value between the two arrays*.\n",
    "\n",
    "The distance value is defined as the number of elements arr1[i] such that there is not any element arr2[j] where |arr1[i]-arr2[j]| <= d."
   ]
  },
  {
   "cell_type": "markdown",
   "id": "53c7e984",
   "metadata": {},
   "source": [
    "Question 6 Given an integer array nums of length n where all the integers of nums are in the range [1, n] and each integer appears **once** or **twice**, return *an array of all the integers that appears **twice***."
   ]
  },
  {
   "cell_type": "code",
   "execution_count": 32,
   "id": "ba4a326f",
   "metadata": {},
   "outputs": [
    {
     "data": {
      "text/plain": [
       "[2, 3]"
      ]
     },
     "execution_count": 32,
     "metadata": {},
     "output_type": "execute_result"
    }
   ],
   "source": [
    "def Q6(nums):\n",
    "    nums.sort()\n",
    "    arr=[]\n",
    "    for i in range(len(nums)):\n",
    "        if (nums[i] == nums[i-1]):\n",
    "            arr.append(nums[i])\n",
    "    return arr\n",
    "Q6([4,3,2,7,8,2,3,1])"
   ]
  },
  {
   "cell_type": "markdown",
   "id": "abfc36e6",
   "metadata": {},
   "source": [
    "Question 8 An integer array original is transformed into a **doubled** array changed by appending **twice the value** of every element in original, and then randomly **shuffling** the resulting array.\n",
    "\n",
    "Given an array changed, return original *if* changed *is a **doubled** array. If* changed *is not a **doubled** array, return an empty array. The elements in* original *may be returned in **any** order*."
   ]
  },
  {
   "cell_type": "code",
   "execution_count": 34,
   "id": "0f946827",
   "metadata": {},
   "outputs": [
    {
     "data": {
      "text/plain": [
       "[1, 3, 4]"
      ]
     },
     "execution_count": 34,
     "metadata": {},
     "output_type": "execute_result"
    }
   ],
   "source": [
    "def Q8(arr):\n",
    "    num = {}\n",
    "    for i in range(0, len(arr)):\n",
    "        if (arr[i] in num):\n",
    "            num[arr[i]] += 1\n",
    "        else:\n",
    "            num[arr[i]] = 1\n",
    "    arr.sort()\n",
    "    res = []\n",
    "    for i in range(0, len(arr)):\n",
    "        freq = num[arr[i]]\n",
    "        if (freq > 0):\n",
    "            res.append(arr[i])\n",
    "            num[arr[i]] -= 1\n",
    "            twice = 2 * arr[i]\n",
    "            num[twice] -= 1\n",
    "    return res\n",
    "Q8([1,3,4,2,6,8])"
   ]
  },
  {
   "cell_type": "code",
   "execution_count": null,
   "id": "62f6372d",
   "metadata": {},
   "outputs": [],
   "source": []
  }
 ],
 "metadata": {
  "kernelspec": {
   "display_name": "Python 3 (ipykernel)",
   "language": "python",
   "name": "python3"
  },
  "language_info": {
   "codemirror_mode": {
    "name": "ipython",
    "version": 3
   },
   "file_extension": ".py",
   "mimetype": "text/x-python",
   "name": "python",
   "nbconvert_exporter": "python",
   "pygments_lexer": "ipython3",
   "version": "3.9.12"
  }
 },
 "nbformat": 4,
 "nbformat_minor": 5
}
